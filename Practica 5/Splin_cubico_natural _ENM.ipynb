{
  "nbformat": 4,
  "nbformat_minor": 0,
  "metadata": {
    "colab": {
      "provenance": []
    },
    "kernelspec": {
      "name": "python3",
      "display_name": "Python 3"
    },
    "language_info": {
      "name": "python"
    }
  },
  "cells": [
    {
      "cell_type": "code",
      "source": [
        "#Splin cúbico natural\n",
        "import matplotlib.pyplot as plt\n",
        "import pandas as pd\n",
        "from math import *\n",
        "import numpy as np"
      ],
      "metadata": {
        "id": "GytZLWTnf97Z"
      },
      "execution_count": 8,
      "outputs": []
    },
    {
      "cell_type": "code",
      "source": [
        "#Valores de entrada\n",
        "x=[0,1,2,3]\n",
        "y=[1,np.exp(1),np.exp(2),np.exp(3)]\n",
        "a=y\n",
        "l=[]\n",
        "u=[]\n",
        "z=[]\n",
        "h=[]\n",
        "A=[]\n",
        "c=[]\n",
        "b=[]\n",
        "d=[]\n",
        "for i in range(0,len(x)-1):\n",
        " l.append(0)\n",
        " u.append(0)\n",
        " z.append(0)\n",
        " h.append(0)\n",
        " A.append(0)\n",
        " c.append(0)\n",
        " b.append(0)\n",
        " d.append(0)"
      ],
      "metadata": {
        "id": "CwP0OOr9uUIu"
      },
      "execution_count": 9,
      "outputs": []
    },
    {
      "cell_type": "code",
      "source": [
        "#Los valores de h\n",
        "i=1\n",
        "for i in range(0,len(x)-1):\n",
        "  h[i]= x[i+1]-x[i]"
      ],
      "metadata": {
        "id": "4ajjVlgautai"
      },
      "execution_count": 10,
      "outputs": []
    },
    {
      "cell_type": "code",
      "source": [
        "#Valores de a\n",
        "for i in range(1,len(x)-1):\n",
        "  A[i]= (3/h[i])*(a[i+1]-a[i]) - (3/h[i-1])*(a[i]-a[i-1])"
      ],
      "metadata": {
        "id": "GuWIIasOu5vF"
      },
      "execution_count": 11,
      "outputs": []
    },
    {
      "cell_type": "code",
      "source": [
        "l[0]=1\n",
        "u[0]=0\n",
        "z[0]=0\n",
        "for i in range(1,len(x)-1):\n",
        "  l[i]=2*( x[i+1]-x[i-1]) - (h[i-1] )*(u[i-1])\n",
        "  u[i]=(h[i] )/l[i]\n",
        "  z[i]=(A[i]- (h[i-1])*(z[i-1]) )/l[i]\n",
        "l.append(1)\n",
        "z.append(0)\n",
        "c.append(0)\n",
        "\n",
        "j= len(x)-2\n",
        "\n",
        "while (j>=0) :\n",
        "  c[j]=z[j] - (u[j])*(c[j+1])\n",
        "  b[j]=(a[j+1] - a[j])/h[j] - (h[j])*(c[j+1] + 2*c[j])/3\n",
        "  d[j]=(c[j+1] - c[j])/(3*h[j])\n",
        "  j=j-1\n",
        "a.pop()\n",
        "c.pop()\n",
        "print( \"Y obtendremos\")\n",
        "df = pd.DataFrame()\n",
        "df[\"aj\"]=a\n",
        "df[\"bj\"]=b\n",
        "df[\"cj\"]=c\n",
        "df[\"dj\"]=d\n",
        "print(df)"
      ],
      "metadata": {
        "colab": {
          "base_uri": "https://localhost:8080/"
        },
        "id": "MJW3PlkovLsX",
        "outputId": "4ca7184a-3ec6-4041-f67c-4f1676740310"
      },
      "execution_count": 12,
      "outputs": [
        {
          "output_type": "stream",
          "name": "stdout",
          "text": [
            "Y obtendremos\n",
            "         aj        bj        cj        dj\n",
            "0  1.000000  1.465998  0.000000  0.252284\n",
            "1  2.718282  2.222850  0.756853  1.691071\n",
            "2  7.389056  8.809770  5.830067 -1.943356\n"
          ]
        }
      ]
    }
  ]
}