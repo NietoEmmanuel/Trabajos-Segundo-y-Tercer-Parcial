{
  "nbformat": 4,
  "nbformat_minor": 0,
  "metadata": {
    "colab": {
      "provenance": []
    },
    "kernelspec": {
      "name": "python3",
      "display_name": "Python 3"
    },
    "language_info": {
      "name": "python"
    }
  },
  "cells": [
    {
      "cell_type": "code",
      "execution_count": 2,
      "metadata": {
        "id": "zkKAGtI5xO4M"
      },
      "outputs": [],
      "source": [
        "#Método de Diferencias divididas de Newton\n",
        "import numpy as np\n",
        "import sympy as sym"
      ]
    },
    {
      "cell_type": "code",
      "source": [
        "#Ponemos los datos en la siguiente tabla\n",
        "x=[1.0, 1.3, 1.6, 1.9, 2.2]\n",
        "y=[0.7651977, 0.6200860, 0.4554022, 0.2818186, 0.1103623]\n"
      ],
      "metadata": {
        "id": "StzjYPEmxXuK"
      },
      "execution_count": 3,
      "outputs": []
    },
    {
      "cell_type": "code",
      "source": [
        "#Creamos la matriz A\n",
        "A=np.zeros((len(x),len(y)))\n",
        "\n",
        "#Valores a A_j,0\n",
        "\n",
        "for r in range(0,len(y)):\n",
        "  A[r][0]=y[r]\n",
        "\n",
        "\n",
        "for i in range(1,len(y)):\n",
        "  for j in range(1,i+1):\n",
        "    A[i][j] = (A[i][j-1] - A[i-1][j-1])/(x[i]- x[i-j])\n",
        "#Dato que nos solicitan interpolar\n",
        "a=1.5"
      ],
      "metadata": {
        "id": "xSGc7vNvxjzR"
      },
      "execution_count": 7,
      "outputs": []
    },
    {
      "cell_type": "code",
      "source": [
        "print(\"Se obtienen los siguientes valores interpolados para \", a)\n",
        "print()\n",
        "print(A)"
      ],
      "metadata": {
        "colab": {
          "base_uri": "https://localhost:8080/"
        },
        "id": "ievNxPBNy9WC",
        "outputId": "9bfcf12f-5de4-448f-c577-10c743ad8999"
      },
      "execution_count": 12,
      "outputs": [
        {
          "output_type": "stream",
          "name": "stdout",
          "text": [
            "Se obtienen los siguientes valores interpolados para  1.5\n",
            "\n",
            "[[ 0.7651977   0.          0.          0.          0.        ]\n",
            " [ 0.620086   -0.48370567  0.          0.          0.        ]\n",
            " [ 0.4554022  -0.548946   -0.10873389  0.          0.        ]\n",
            " [ 0.2818186  -0.578612   -0.04944333  0.0658784   0.        ]\n",
            " [ 0.1103623  -0.571521    0.01181833  0.06806852  0.0018251 ]]\n"
          ]
        }
      ]
    },
    {
      "cell_type": "code",
      "source": [
        "#Obtenemos el siguiente Polinomio\n",
        "\n",
        "p = A[0][0]\n",
        "s = sym.Symbol('x')\n",
        "\n",
        "for j in range(1,len(y)):\n",
        "    m = A[j][j]\n",
        "    t = 1\n",
        "    for k in range(0,j,1):\n",
        "        t= t*(s - x[k])\n",
        "    p = t*m + p\n",
        "\n",
        "print('P(x) = ',p)"
      ],
      "metadata": {
        "colab": {
          "base_uri": "https://localhost:8080/"
        },
        "id": "pAm6Zoy1zsqu",
        "outputId": "9813250d-ecaa-4f42-d82f-f3503a5cf2eb"
      },
      "execution_count": 14,
      "outputs": [
        {
          "output_type": "stream",
          "name": "stdout",
          "text": [
            "P(x) =  -0.483705666666666*x + 0.00182510288066044*(x - 1.9)*(x - 1.6)*(x - 1.3)*(x - 1.0) + 0.0658783950617283*(x - 1.6)*(x - 1.3)*(x - 1.0) - 0.108733888888889*(x - 1.3)*(x - 1.0) + 1.24890336666667\n"
          ]
        }
      ]
    },
    {
      "cell_type": "code",
      "source": [
        "#Simplificamos el polinmio\n",
        "ps = p.expand()\n",
        "px = sym.lambdify(s,ps)\n",
        "\n",
        "#Evaluamos 1.5 en el polinomio\n",
        "print(\"Al evaluar 1.5 en el polinomio obtenemos\")\n",
        "print(ps.subs(s,1.5))\n"
      ],
      "metadata": {
        "colab": {
          "base_uri": "https://localhost:8080/"
        },
        "id": "KKo6g09e5Bik",
        "outputId": "29a16a4b-106a-4490-8ea2-5479bc3df38d"
      },
      "execution_count": 16,
      "outputs": [
        {
          "output_type": "stream",
          "name": "stdout",
          "text": [
            "Al evaluar 1.5 en el polinomio obtenemos\n",
            "0.511819994238683\n"
          ]
        }
      ]
    }
  ]
}