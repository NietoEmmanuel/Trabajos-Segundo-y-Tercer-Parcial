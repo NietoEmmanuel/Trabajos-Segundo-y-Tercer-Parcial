{
  "nbformat": 4,
  "nbformat_minor": 0,
  "metadata": {
    "colab": {
      "provenance": []
    },
    "kernelspec": {
      "name": "python3",
      "display_name": "Python 3"
    },
    "language_info": {
      "name": "python"
    }
  },
  "cells": [
    {
      "cell_type": "code",
      "execution_count": 9,
      "metadata": {
        "id": "jJ5WoN-eCutW"
      },
      "outputs": [],
      "source": [
        "#Método de Neville\n",
        "import numpy as np"
      ]
    },
    {
      "cell_type": "code",
      "source": [
        "#Ponemos los datos en la siguiente tabla\n",
        "x=[1.0, 1.3, 1.6, 1.9, 2.2]\n",
        "y=[0.7651977, 0.6200860, 0.4554022, 0.2818186, 0.1103623]"
      ],
      "metadata": {
        "id": "y1h2WKUOCzZk"
      },
      "execution_count": 10,
      "outputs": []
    },
    {
      "cell_type": "code",
      "source": [
        "#Creamos la matriz A\n",
        "A=np.zeros((len(x),len(y)))\n",
        "#Dato que nos solicitan interpolar\n",
        "a=1.5"
      ],
      "metadata": {
        "id": "24DT66ZuC2pE"
      },
      "execution_count": 12,
      "outputs": []
    },
    {
      "cell_type": "code",
      "source": [
        "#Se llenan los A_j,0\n",
        "for r in range(0,len(y)):\n",
        "  A[r][0]=y[r]"
      ],
      "metadata": {
        "id": "1E-YeBU_C6p6"
      },
      "execution_count": 13,
      "outputs": []
    },
    {
      "cell_type": "code",
      "source": [
        "\n",
        "for i in range(1,len(y)):\n",
        "  for j in range(1,i+1):\n",
        "    A[i][j]=((a- x[i-j])*(A[i][j-1])-(a-x[i])*(A[i-1][j-1]))/(x[i]-x[i-j])\n",
        "print(\"Se obtienen los siguientes valores interpolados para 1.5\")\n",
        "print(A)"
      ],
      "metadata": {
        "colab": {
          "base_uri": "https://localhost:8080/"
        },
        "id": "WbpF40wAC-34",
        "outputId": "a4b1109e-17e4-4304-82e8-81b38041233f"
      },
      "execution_count": 14,
      "outputs": [
        {
          "output_type": "stream",
          "name": "stdout",
          "text": [
            "Se obtienen los siguientes valores interpolados para 1.5\n",
            "[[0.7651977  0.         0.         0.         0.        ]\n",
            " [0.620086   0.52334487 0.         0.         0.        ]\n",
            " [0.4554022  0.5102968  0.51247148 0.         0.        ]\n",
            " [0.2818186  0.5132634  0.51128567 0.51181269 0.        ]\n",
            " [0.1103623  0.510427   0.51373613 0.51183021 0.51181999]]\n"
          ]
        }
      ]
    }
  ]
}