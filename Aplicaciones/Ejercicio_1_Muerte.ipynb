{
  "nbformat": 4,
  "nbformat_minor": 0,
  "metadata": {
    "colab": {
      "provenance": []
    },
    "kernelspec": {
      "name": "python3",
      "display_name": "Python 3"
    },
    "language_info": {
      "name": "python"
    }
  },
  "cells": [
    {
      "cell_type": "code",
      "execution_count": 17,
      "metadata": {
        "id": "isd7eU-Gyp5D"
      },
      "outputs": [],
      "source": [
        "#Problema 1 Muerte en la reserva- Aplicaciones\n",
        "from math import *\n",
        "import numpy as np"
      ]
    },
    {
      "cell_type": "code",
      "source": [
        "#Valores\n",
        "Po = 0.5\n",
        "Tol = 0.0000001\n",
        "n = 10"
      ],
      "metadata": {
        "id": "ElQNr_KQ9wI-"
      },
      "execution_count": 18,
      "outputs": []
    },
    {
      "cell_type": "code",
      "source": [
        "import math\n",
        "def f1(x):\n",
        "  f = 30*x - 1 +(1-26*x)*(math.exp(x))\n",
        "  return (f)\n",
        "\n",
        "def f2(x):\n",
        "  h = 30 - (25 + 26*x)*(math.exp(x))\n",
        "  return (h)\n",
        "\n",
        "def f3(x):\n",
        "  g = -(51+26*x)*(math.exp(x))\n",
        "  return (g)\n"
      ],
      "metadata": {
        "id": "bq8zpgFUBawf"
      },
      "execution_count": 19,
      "outputs": []
    },
    {
      "cell_type": "code",
      "source": [
        "#Usamos el algoritmo de Newton\n",
        "print(\"i \\t pn \\t\\t f(pn) \\t\\t f'(pn) \\t f''(pn)\")\n",
        "print(\"0 \\t {1:6.6f} \\t {2:6.6f} \\t {3:6.6f} \\t {4:6.6f}\".format(0,Po,f1(Po),f2(Po),f3(Po)))\n",
        "i = 1\n",
        "while i<=n:\n",
        "  p = Po - f1(Po)/f2(Po)\n",
        "\n",
        "  if abs(p-Po) < Tol:\n",
        "    break\n",
        "\n",
        "  Po = p\n",
        "  print(\"{0} \\t {1:6.6f} \\t {2:6.6f} \\t {3:6.6f} \\t {4:6.6f}\".format(i,Po,f1(Po),f2(Po),f3(Po)))\n",
        "  i = i+1"
      ],
      "metadata": {
        "colab": {
          "base_uri": "https://localhost:8080/"
        },
        "id": "U5jpMaTFiSE-",
        "outputId": "0c01bbbe-2f6e-4927-b3df-1aef1ddd4b45"
      },
      "execution_count": 20,
      "outputs": [
        {
          "output_type": "stream",
          "name": "stdout",
          "text": [
            "i \t pn \t\t f(pn) \t\t f'(pn) \t f''(pn)\n",
            "0 \t 0.500000 \t -5.784655 \t -32.651408 \t -105.518161\n",
            "1 \t 0.322836 \t -1.525956 \t -16.118044 \t -82.025052\n",
            "2 \t 0.228162 \t -0.351425 \t -8.859806 \t -71.523322\n",
            "3 \t 0.188497 \t -0.055195 \t -6.103384 \t -67.496659\n",
            "4 \t 0.179454 \t -0.002748 \t -5.497020 \t -66.607676\n",
            "5 \t 0.178954 \t -0.000008 \t -5.463736 \t -66.558845\n",
            "6 \t 0.178952 \t -0.000000 \t -5.463635 \t -66.558696\n"
          ]
        }
      ]
    },
    {
      "cell_type": "code",
      "source": [
        "#Entrada de valores\n",
        "to = -1\n",
        "tol = 0.000000001\n",
        "n = 10"
      ],
      "metadata": {
        "id": "_MNNygR3-vN2"
      },
      "execution_count": 21,
      "outputs": []
    },
    {
      "cell_type": "code",
      "source": [
        "def g1(x):\n",
        "  k=0.178952\n",
        "  j = (37*k-1+k*x)*(math.exp(k*x))-30*k + 1\n",
        "  return (j)\n",
        "\n",
        "def g2(x):\n",
        "  k=0.178952\n",
        "  m = (37*(k**2) + (k**2)*x)*(math.exp(k*x))\n",
        "  return (m)\n",
        "\n",
        "def g3(x):\n",
        "  k=0.178952\n",
        "  r = (37*(k**3) + k**2 + (k**3)*k)*(math.exp(k*x))\n",
        "  return (r)\n"
      ],
      "metadata": {
        "id": "vjve7oJp7spB"
      },
      "execution_count": 22,
      "outputs": []
    },
    {
      "cell_type": "code",
      "source": [
        "# Algoritmo de Newton donde T_m cambia\n",
        "print(\"i \\t pn \\t\\t f(pn) \\t\\t f'(pn) \\t f''(pn)\")\n",
        "print(\"0 \\t {1:6.6f} \\t {2:6.6f} \\t {3:6.6f} \\t {4:6.6f}\".format(0,to,g1(to),g2(to),g3(to)))\n",
        "i = 1\n",
        "while i<=n:\n",
        "  t = to - g1(to)/g2(to)\n",
        "\n",
        "  if abs(t-to) < tol:\n",
        "    break\n",
        "\n",
        "  to = t\n",
        "  print(\"{0} \\t {1:6.7f} \\t {2:6.7f} \\t {3:6.7f} \\t {4:6.7f}\".format(i,to,g1(to),g2(to),g3(to)))\n",
        "  i = i+1"
      ],
      "metadata": {
        "colab": {
          "base_uri": "https://localhost:8080/"
        },
        "id": "GgIIaST2-fj6",
        "outputId": "8f23d4ba-0332-439e-9fa0-3ce91d7da722"
      },
      "execution_count": 23,
      "outputs": [
        {
          "output_type": "stream",
          "name": "stdout",
          "text": [
            "i \t pn \t\t f(pn) \t\t f'(pn) \t f''(pn)\n",
            "0 \t -1.000000 \t 0.181974 \t 0.963957 \t 0.204928\n",
            "1 \t -1.1887782 \t 0.0035059 \t 0.9270495 \t 0.1981206\n",
            "2 \t -1.1925601 \t 0.0000014 \t 0.9263245 \t 0.1979865\n",
            "3 \t -1.1925615 \t 0.0000000 \t 0.9263242 \t 0.1979865\n"
          ]
        }
      ]
    },
    {
      "cell_type": "markdown",
      "source": [
        "Entonces podemos deducir que el jabalí fue asesinado\n",
        "1 hora y 12 minutos antes de que los guardabosques lo encontraran."
      ],
      "metadata": {
        "id": "wdSfE2H5Uxhx"
      }
    }
  ]
}