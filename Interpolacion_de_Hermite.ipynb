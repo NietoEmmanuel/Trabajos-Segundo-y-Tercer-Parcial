{
  "nbformat": 4,
  "nbformat_minor": 0,
  "metadata": {
    "colab": {
      "provenance": []
    },
    "kernelspec": {
      "name": "python3",
      "display_name": "Python 3"
    },
    "language_info": {
      "name": "python"
    }
  },
  "cells": [
    {
      "cell_type": "code",
      "execution_count": 2,
      "metadata": {
        "id": "QBk96tH5S2bc"
      },
      "outputs": [],
      "source": [
        "#Interpolación de Hermite\n",
        "import numpy as np\n",
        "import sympy as sym"
      ]
    },
    {
      "cell_type": "code",
      "source": [
        "#Datos de la lista, donde dan x, f es la función evaluada en cada x y d es la derivada evaluada en x\n",
        "x=[1.3,1.6,1.9]\n",
        "f=[0.6200860,0.4554022,0.2818186]\n",
        "d=[-0.5220232,-0.5698959,-0.5811571]"
      ],
      "metadata": {
        "id": "PPWiAWTCUfCa"
      },
      "execution_count": 3,
      "outputs": []
    },
    {
      "cell_type": "code",
      "source": [
        "#Creamos la matriz Q\n",
        "Q=np.zeros((len(x)+3,len(f)+3))\n",
        "#Creamos la matriz Z\n",
        "Z=np.zeros((len(x)*2,1))\n",
        "#Asignamos los valores a Q_j,0\n",
        "for r in range(0,len(f)):\n",
        "  Q[r][0]=f[r]"
      ],
      "metadata": {
        "id": "z25fUlD4qQes"
      },
      "execution_count": 5,
      "outputs": []
    },
    {
      "cell_type": "code",
      "source": [
        "for i in range(0,len(x)):\n",
        "  Z[2*i] = x[i]\n",
        "  Z[2*i+1]= x[i]\n",
        "  Q[2*i][0] = f[i]\n",
        "  Q[2*i+1][0] = d[i]\n",
        "  Q[2*i+1][1] = d[i]\n",
        "  if i != 0:\n",
        "    Q[2*i][1] = (Q[2*i][0]-Q[2*i-1][0])/(Z[2*i]- Z[2*i-1])\n",
        "\n",
        "for i in range(2,len(x)+3):\n",
        "    for j in range(2,i+1):\n",
        "        Q[i][j]=(Q[i][j-1]-Q[i-1][j-1])/(Z[i]-Z[i-j])\n",
        "print (\"Obtendremos la siguiente matriz:\")\n",
        "print(Q)"
      ],
      "metadata": {
        "colab": {
          "base_uri": "https://localhost:8080/"
        },
        "id": "PzRuhbvYp6al",
        "outputId": "3dee94c6-4532-4cfa-8be7-536435f1069a"
      },
      "execution_count": 7,
      "outputs": [
        {
          "output_type": "stream",
          "name": "stdout",
          "text": [
            "Obtendremos la siguiente matriz:\n",
            "[[ 6.20086000e-01  0.00000000e+00  0.00000000e+00  0.00000000e+00\n",
            "   0.00000000e+00  0.00000000e+00]\n",
            " [-5.22023200e-01 -5.22023200e-01  0.00000000e+00  0.00000000e+00\n",
            "   0.00000000e+00  0.00000000e+00]\n",
            " [ 4.55402200e-01  3.25808467e+00  1.26003596e+01  0.00000000e+00\n",
            "   0.00000000e+00  0.00000000e+00]\n",
            " [-5.69895900e-01 -5.69895900e-01 -1.27599352e+01 -8.45343159e+01\n",
            "   0.00000000e+00  0.00000000e+00]\n",
            " [ 2.81818600e-01  2.83904833e+00  1.13631474e+01  4.02051378e+01\n",
            "   2.07899090e+02  0.00000000e+00]\n",
            " [-5.81157100e-01 -5.81157100e-01 -1.14006848e+01 -7.58794407e+01\n",
            "  -1.93474298e+02 -6.68955645e+02]]\n"
          ]
        }
      ]
    }
  ]
}